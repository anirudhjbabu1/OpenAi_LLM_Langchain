{
 "cells": [
  {
   "cell_type": "code",
   "execution_count": 1,
   "id": "05fcf87c-0aae-496e-b6f2-55b706ac8666",
   "metadata": {
    "scrolled": true
   },
   "outputs": [],
   "source": [
    "from secret_key import openapi_key\n",
    "import os\n",
    "os.environ['OPENAI_API_KEY'] =openapi_key\n"
   ]
  },
  {
   "cell_type": "code",
   "execution_count": null,
   "id": "26a3f449-00cf-44ff-a30a-131b0c5927bd",
   "metadata": {},
   "outputs": [],
   "source": [
    "from langchain.llms import OpenAI\n",
    "\n",
    "llm = OpenAI(temperature=0.6)\n",
    "name = llm(\"I want to open a restaurant for Indian food. Suggest a fancy name for this.\")\n",
    "print(name)"
   ]
  },
  {
   "cell_type": "code",
   "execution_count": null,
   "id": "c0162c47-98a2-4d89-a796-957b5eca3e2a",
   "metadata": {},
   "outputs": [],
   "source": [
    "from langchain.prompts import PromptTemplate\n",
    "\n",
    "prompt_template_name = PromptTemplate(\n",
    "    input_variable = ['cuisine'],\n",
    "    template = \"I want to open a restaurant for {cuisine} food. Suggest a fancy name for this.\"\n",
    ")"
   ]
  },
  {
   "cell_type": "code",
   "execution_count": null,
   "id": "472ed816-6b5c-434c-9e62-faf2427a82a9",
   "metadata": {},
   "outputs": [],
   "source": [
    "from lanchain.chains import LLMChain\n",
    "\n",
    "chain == LLMChain(llm=llm, prompt=prompt_template_name)\n",
    "chain.run(\"Mexican`\")"
   ]
  },
  {
   "cell_type": "code",
   "execution_count": null,
   "id": "5847ed00-844d-4b26-b9b0-bc48bb79b546",
   "metadata": {},
   "outputs": [],
   "source": []
  }
 ],
 "metadata": {
  "kernelspec": {
   "display_name": "Python [conda env:base] *",
   "language": "python",
   "name": "conda-base-py"
  },
  "language_info": {
   "codemirror_mode": {
    "name": "ipython",
    "version": 3
   },
   "file_extension": ".py",
   "mimetype": "text/x-python",
   "name": "python",
   "nbconvert_exporter": "python",
   "pygments_lexer": "ipython3",
   "version": "3.12.7"
  }
 },
 "nbformat": 4,
 "nbformat_minor": 5
}
